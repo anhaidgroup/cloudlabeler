{
 "cells": [
  {
   "cell_type": "markdown",
   "metadata": {},
   "source": [
    "# Introduction"
   ]
  },
  {
   "cell_type": "markdown",
   "metadata": {},
   "source": [
    "This IPython notebook illustrates how to use REST api in cloud labeler.\n",
    "\n",
    "First, we need to import requests package:"
   ]
  },
  {
   "cell_type": "code",
   "execution_count": 1,
   "metadata": {
    "ExecuteTime": {
     "end_time": "2017-12-30T18:12:19.100155Z",
     "start_time": "2017-12-30T12:12:18.934822-06:00"
    }
   },
   "outputs": [],
   "source": [
    "# Import requests package\n",
    "import requests\n",
    "import os"
   ]
  },
  {
   "cell_type": "markdown",
   "metadata": {},
   "source": [
    "Next, we need to set the url of your cloud labeler. PLEASE PROVIDE YOUR URL HERE."
   ]
  },
  {
   "cell_type": "code",
   "execution_count": 2,
   "metadata": {},
   "outputs": [],
   "source": [
    "url = 'http://localhost:8080/api/'\n",
    "urltable = url + 'table.py'\n",
    "urlsummary  = url + 'summary.py'"
   ]
  },
  {
   "cell_type": "markdown",
   "metadata": {},
   "source": [
    "To get the CSV of current table, you need to get from urltable:"
   ]
  },
  {
   "cell_type": "code",
   "execution_count": 3,
   "metadata": {},
   "outputs": [
    {
     "name": "stdout",
     "output_type": "stream",
     "text": [
      "<Response [200]>\n",
      "_id,ltable_id,rtable_id,ltable_Dataset,rtable_Dataset,ltable_Name,rtable_Name,Label\n",
      "1,100,200,Dataset_1,Dataset_2,Dave Smith,David Smith,0\n",
      "2,101,201,Dataset_1,Dataset_2,William Michael,Michael Slater,0\n",
      "\n",
      "\n"
     ]
    }
   ],
   "source": [
    "r = requests.get(urltable)\n",
    "print(r)\n",
    "print(r.text)"
   ]
  },
  {
   "cell_type": "markdown",
   "metadata": {},
   "source": [
    "You can also get the CSV of any table you want by providing the table attribute: "
   ]
  },
  {
   "cell_type": "code",
   "execution_count": 4,
   "metadata": {},
   "outputs": [
    {
     "name": "stdout",
     "output_type": "stream",
     "text": [
      "<Response [200]>\n",
      "_id,ltable_id,rtable_id,ltable_Dataset,rtable_Dataset,ltable_Name,rtable_Name,Label\n",
      "1,100,200,Dataset_1,Dataset_2,Dave Smith,David Smith,5\n",
      "2,101,201,Dataset_1,Dataset_2,William Michael,Michael Slater,5\n",
      "\n",
      "\n"
     ]
    }
   ],
   "source": [
    "r = requests.get(urltable+\"?table=labels2\")\n",
    "print(r)\n",
    "print(r.text)"
   ]
  },
  {
   "cell_type": "markdown",
   "metadata": {},
   "source": [
    "To send cloud labeler your own table, use post:"
   ]
  },
  {
   "cell_type": "code",
   "execution_count": 5,
   "metadata": {},
   "outputs": [
    {
     "name": "stdout",
     "output_type": "stream",
     "text": [
      "<Response [200]>\n",
      "\n"
     ]
    }
   ],
   "source": [
    "data = {'uname': 'hello'}\n",
    "files = {'filename1':('dataset_1.csv', open('dataset_1.csv', 'rb')),\n",
    "        'filename2':('dataset_2.csv', open('dataset_2.csv', 'rb')),\n",
    "        'filename3':('file_to_label.csv', open('file_to_label.csv', 'rb'))}\n",
    "r =  requests.post(urltable, files=files, data=data)\n",
    "print(r)\n",
    "print(r.text)"
   ]
  },
  {
   "cell_type": "markdown",
   "metadata": {},
   "source": [
    "To get summary of current table, need to get from urlsummary:"
   ]
  },
  {
   "cell_type": "code",
   "execution_count": 6,
   "metadata": {},
   "outputs": [
    {
     "name": "stdout",
     "output_type": "stream",
     "text": [
      "<Response [200]>\n",
      "{\"total\": 2, \"unlabel\": 2}\n",
      "\n"
     ]
    }
   ],
   "source": [
    "r = requests.get(urlsummary)\n",
    "print(r)\n",
    "print(r.text)"
   ]
  },
  {
   "cell_type": "markdown",
   "metadata": {},
   "source": [
    "You can also get the summary  of any table you want by providing the table attribute:"
   ]
  },
  {
   "cell_type": "code",
   "execution_count": 7,
   "metadata": {},
   "outputs": [
    {
     "name": "stdout",
     "output_type": "stream",
     "text": [
      "<Response [200]>\n",
      "{\"total\": 2, \"unlabel\": 0}\n",
      "\n"
     ]
    }
   ],
   "source": [
    "r = requests.get(urlsummary+\"?table=labels2\")\n",
    "print(r)\n",
    "print(r.text)"
   ]
  },
  {
   "cell_type": "code",
   "execution_count": null,
   "metadata": {},
   "outputs": [],
   "source": []
  }
 ],
 "metadata": {
  "anaconda-cloud": {},
  "kernelspec": {
   "display_name": "Python 3",
   "language": "python",
   "name": "python3"
  },
  "language_info": {
   "codemirror_mode": {
    "name": "ipython",
    "version": 3
   },
   "file_extension": ".py",
   "mimetype": "text/x-python",
   "name": "python",
   "nbconvert_exporter": "python",
   "pygments_lexer": "ipython3",
   "version": "3.6.5"
  }
 },
 "nbformat": 4,
 "nbformat_minor": 1
}
